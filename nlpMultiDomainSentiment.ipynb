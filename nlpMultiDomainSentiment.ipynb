{
 "cells": [
  {
   "cell_type": "markdown",
   "id": "5816537c",
   "metadata": {},
   "source": [
    "# Processamento de linguagem natural - features clássicas\n",
    "\n",
    "O projeto tem como objetivo criar um modelo de classificação para predição de sentimentos em avaliações de produtos da Amazon¹, a partir do uso de features clássicas de processamento de linguagem natural.\n",
    "\n",
    "A fim de atingir esse objetivo, o relatório se divide nos seguintes tópicos:\n",
    "\n",
    "1. Tratamento da base de dados\n",
    "2. Análise exploratória dos dados\n",
    "3. Modelos preditivos\n",
    "    * Modelos com features clássicas\n",
    "    * Bigrama com TF-IDF\n",
    "4. Implementação do modelo\n",
    "5. Referências"
   ]
  },
  {
   "cell_type": "markdown",
   "id": "d5168e21",
   "metadata": {},
   "source": [
    "# 1. Tratamento da base de dados\n",
    "\n",
    "A base de dados de avaliações originalmente é dividida em três arquivos diferentes: positivo, negativo e não-classificados. O nome do arquivo é referente ao sentimento atrelado às avaliações, portanto, os arquivos positivo e negativo foram combinados e foi criada uma coluna 'sentiment' preenchida de acordo com a classificação da avaliaçaõ. Já o arquivo unlabeled vai ser usado para implementação do modelo de classificação escolhido.\n",
    "\n",
    "Os arquivos ainda foram tratados por meio de uma verificação de ids únicos (os ids eram únicos, portanto não foi necessário fazer nenhuma alteração nesse sentido) e avaliações de categorias de produto diferentes de eletrônicos foram excluídas da base."
   ]
  },
  {
   "cell_type": "code",
   "execution_count": 78,
   "id": "b77f2e4a",
   "metadata": {},
   "outputs": [],
   "source": [
    "import pandas as pd\n",
    "import seaborn as sns\n",
    "import numpy as np\n",
    "import matplotlib.pyplot as plt\n",
    "import textwrap as tw\n",
    "import xml.etree.ElementTree as et\n",
    "from sklearn.model_selection import train_test_split, cross_val_score, GridSearchCV\n",
    "from sklearn.preprocessing import LabelEncoder\n",
    "from sklearn.feature_extraction.text import CountVectorizer, TfidfTransformer\n",
    "from sklearn.svm import SVC, LinearSVC\n",
    "from sklearn import tree\n",
    "from sklearn.metrics import recall_score"
   ]
  },
  {
   "cell_type": "code",
   "execution_count": 3,
   "id": "292174c3",
   "metadata": {},
   "outputs": [],
   "source": [
    "def parse_XML(xml_file, df_cols):\n",
    "    xtree = et.parse(xml_file)\n",
    "    xroot = xtree.getroot()\n",
    "    rows = []\n",
    "    \n",
    "    for node in xroot:\n",
    "        res = []\n",
    "        res.append(node.attrib.get(df_cols[0]))\n",
    "        for el in df_cols[1:]:\n",
    "            if node is not None and node.find(el) is not None:\n",
    "                res.append(node.find(el).text)\n",
    "            else:\n",
    "                res.append(None)\n",
    "        rows.append({df_cols[i]: res[i]\n",
    "                    for i, _ in enumerate(df_cols)})\n",
    "    \n",
    "    out_df = pd.DataFrame(rows, columns=df_cols)\n",
    "    \n",
    "    return out_df"
   ]
  },
  {
   "cell_type": "code",
   "execution_count": 5,
   "id": "66364969",
   "metadata": {},
   "outputs": [],
   "source": [
    "df = parse_XML(\"negative.review\", \n",
    "          [\n",
    "              't', 'review', 'unique_id', 'asin', 'product_name', 'product_type',\n",
    "              'helpful', 'rating', 'title', 'date', 'reviewer', \n",
    "              'reviewer_location', 'review_text'\n",
    "          ])"
   ]
  },
  {
   "cell_type": "code",
   "execution_count": 11,
   "id": "92889950",
   "metadata": {},
   "outputs": [],
   "source": [
    "df.replace(r'\\n','', regex=True, inplace=True)\n",
    "df['sentiment'] = 'negative'\n",
    "df.drop(columns=['t', 'review'], inplace=True)\n",
    "df.head()"
   ]
  },
  {
   "cell_type": "code",
   "execution_count": 19,
   "id": "d7555513",
   "metadata": {},
   "outputs": [],
   "source": [
    "p_df = parse_XML(\"positive.review\", \n",
    "          [\n",
    "              't', 'review', 'unique_id', 'asin', 'product_name', 'product_type',\n",
    "              'helpful', 'rating', 'title', 'date', 'reviewer', \n",
    "              'reviewer_location', 'review_text'\n",
    "          ])"
   ]
  },
  {
   "cell_type": "code",
   "execution_count": 21,
   "id": "a0103109",
   "metadata": {},
   "outputs": [
    {
     "data": {
      "text/html": [
       "<div>\n",
       "<style scoped>\n",
       "    .dataframe tbody tr th:only-of-type {\n",
       "        vertical-align: middle;\n",
       "    }\n",
       "\n",
       "    .dataframe tbody tr th {\n",
       "        vertical-align: top;\n",
       "    }\n",
       "\n",
       "    .dataframe thead th {\n",
       "        text-align: right;\n",
       "    }\n",
       "</style>\n",
       "<table border=\"1\" class=\"dataframe\">\n",
       "  <thead>\n",
       "    <tr style=\"text-align: right;\">\n",
       "      <th></th>\n",
       "      <th>unique_id</th>\n",
       "      <th>asin</th>\n",
       "      <th>product_name</th>\n",
       "      <th>product_type</th>\n",
       "      <th>helpful</th>\n",
       "      <th>rating</th>\n",
       "      <th>title</th>\n",
       "      <th>date</th>\n",
       "      <th>reviewer</th>\n",
       "      <th>reviewer_location</th>\n",
       "      <th>review_text</th>\n",
       "      <th>sentiment</th>\n",
       "    </tr>\n",
       "  </thead>\n",
       "  <tbody>\n",
       "    <tr>\n",
       "      <th>0</th>\n",
       "      <td>B00006HYUB:everyone_should_own_one:d._john_\"lo...</td>\n",
       "      <td>B00006HYUB</td>\n",
       "      <td>APC Back-UPS ES 500 Backup Battery and Surge P...</td>\n",
       "      <td>electronics</td>\n",
       "      <td>3 of 3</td>\n",
       "      <td>5.0</td>\n",
       "      <td>Everyone should own one</td>\n",
       "      <td>July 31, 2006</td>\n",
       "      <td>D. John \"Looser\"</td>\n",
       "      <td>PA</td>\n",
       "      <td>I purchased this unit due to frequent blackout...</td>\n",
       "      <td>positive</td>\n",
       "    </tr>\n",
       "    <tr>\n",
       "      <th>1</th>\n",
       "      <td>B00006HYUB:breif_review:scott_park</td>\n",
       "      <td>B00006HYUB</td>\n",
       "      <td>APC Back-UPS ES 500 Backup Battery and Surge P...</td>\n",
       "      <td>electronics</td>\n",
       "      <td>11 of 12</td>\n",
       "      <td>5.0</td>\n",
       "      <td>Breif Review</td>\n",
       "      <td>September 26, 2005</td>\n",
       "      <td>Scott Park</td>\n",
       "      <td>New York, NY USA</td>\n",
       "      <td>I ordered 3 APC Back-UPS ES 500s on the recomm...</td>\n",
       "      <td>positive</td>\n",
       "    </tr>\n",
       "    <tr>\n",
       "      <th>2</th>\n",
       "      <td>B00006HYUB:works_fine.:dee_richards_\"deeanalyst\"</td>\n",
       "      <td>B00006HYUB</td>\n",
       "      <td>APC Back-UPS ES 500 Backup Battery and Surge P...</td>\n",
       "      <td>electronics</td>\n",
       "      <td>0 of 2</td>\n",
       "      <td>4.0</td>\n",
       "      <td>Works fine.</td>\n",
       "      <td>September 15, 2005</td>\n",
       "      <td>Dee Richards \"deeanalyst\"</td>\n",
       "      <td>Mobile, AL</td>\n",
       "      <td>Wish the unit had a separate online/offline li...</td>\n",
       "      <td>positive</td>\n",
       "    </tr>\n",
       "    <tr>\n",
       "      <th>3</th>\n",
       "      <td>B000067VBM:affordable_and_effective:jason_dick...</td>\n",
       "      <td>B000067VBM</td>\n",
       "      <td>50-pack Slim CD/DVD Jewel Cases (5mm) Clear: E...</td>\n",
       "      <td>electronics</td>\n",
       "      <td>4 of 4</td>\n",
       "      <td>5.0</td>\n",
       "      <td>Affordable and effective</td>\n",
       "      <td>July 7, 2005</td>\n",
       "      <td>Jason Dickson \"Needs More Money\"</td>\n",
       "      <td>Maryville, TN USA</td>\n",
       "      <td>Cheaper than thick CD cases and less prone to ...</td>\n",
       "      <td>positive</td>\n",
       "    </tr>\n",
       "    <tr>\n",
       "      <th>4</th>\n",
       "      <td>B00008SCFU:it_is_a_good_product_:kiran_k._sing...</td>\n",
       "      <td>B00008SCFU</td>\n",
       "      <td>Kingston 256 MB Secure Digital Card ( SD/256 )...</td>\n",
       "      <td>electronics</td>\n",
       "      <td></td>\n",
       "      <td>5.0</td>\n",
       "      <td>It is a good product</td>\n",
       "      <td>February 24, 2006</td>\n",
       "      <td>Kiran K. Singarapu</td>\n",
       "      <td></td>\n",
       "      <td>HiI brought 256 MB Kingston SD card from Amazo...</td>\n",
       "      <td>positive</td>\n",
       "    </tr>\n",
       "  </tbody>\n",
       "</table>\n",
       "</div>"
      ],
      "text/plain": [
       "                                           unique_id        asin  \\\n",
       "0  B00006HYUB:everyone_should_own_one:d._john_\"lo...  B00006HYUB   \n",
       "1                 B00006HYUB:breif_review:scott_park  B00006HYUB   \n",
       "2   B00006HYUB:works_fine.:dee_richards_\"deeanalyst\"  B00006HYUB   \n",
       "3  B000067VBM:affordable_and_effective:jason_dick...  B000067VBM   \n",
       "4  B00008SCFU:it_is_a_good_product_:kiran_k._sing...  B00008SCFU   \n",
       "\n",
       "                                        product_name product_type   helpful  \\\n",
       "0  APC Back-UPS ES 500 Backup Battery and Surge P...  electronics    3 of 3   \n",
       "1  APC Back-UPS ES 500 Backup Battery and Surge P...  electronics  11 of 12   \n",
       "2  APC Back-UPS ES 500 Backup Battery and Surge P...  electronics    0 of 2   \n",
       "3  50-pack Slim CD/DVD Jewel Cases (5mm) Clear: E...  electronics    4 of 4   \n",
       "4  Kingston 256 MB Secure Digital Card ( SD/256 )...  electronics             \n",
       "\n",
       "  rating                     title                date  \\\n",
       "0    5.0   Everyone should own one       July 31, 2006   \n",
       "1    5.0              Breif Review  September 26, 2005   \n",
       "2    4.0               Works fine.  September 15, 2005   \n",
       "3    5.0  Affordable and effective        July 7, 2005   \n",
       "4    5.0     It is a good product    February 24, 2006   \n",
       "\n",
       "                           reviewer  reviewer_location  \\\n",
       "0                  D. John \"Looser\"                 PA   \n",
       "1                        Scott Park   New York, NY USA   \n",
       "2         Dee Richards \"deeanalyst\"         Mobile, AL   \n",
       "3  Jason Dickson \"Needs More Money\"  Maryville, TN USA   \n",
       "4                Kiran K. Singarapu                      \n",
       "\n",
       "                                         review_text sentiment  \n",
       "0  I purchased this unit due to frequent blackout...  positive  \n",
       "1  I ordered 3 APC Back-UPS ES 500s on the recomm...  positive  \n",
       "2  Wish the unit had a separate online/offline li...  positive  \n",
       "3  Cheaper than thick CD cases and less prone to ...  positive  \n",
       "4  HiI brought 256 MB Kingston SD card from Amazo...  positive  "
      ]
     },
     "execution_count": 21,
     "metadata": {},
     "output_type": "execute_result"
    }
   ],
   "source": [
    "p_df.replace(r'\\n','', regex=True, inplace=True) \n",
    "p_df['sentiment'] = 'positive'\n",
    "p_df.drop(columns=['t', 'review'], inplace=True)\n",
    "p_df.head()"
   ]
  },
  {
   "cell_type": "code",
   "execution_count": 25,
   "id": "9dc0c22a",
   "metadata": {},
   "outputs": [
    {
     "data": {
      "text/plain": [
       "(2000, 12)"
      ]
     },
     "execution_count": 25,
     "metadata": {},
     "output_type": "execute_result"
    }
   ],
   "source": [
    "df = pd.concat([df, p_df], ignore_index=True, sort=False)\n",
    "df.shape"
   ]
  },
  {
   "cell_type": "code",
   "execution_count": null,
   "id": "a90a22b4",
   "metadata": {},
   "outputs": [],
   "source": [
    "# Deixando apenas com uma categoria\n",
    "df.groupby('product_type')['product_type'].count()\n",
    "df.drop(df.loc[(df['product_type'] == 'computer andamp; video games')].index, inplace=True)\n",
    "\n",
    "# Verificando se os ids são realmente únicos\n",
    "len(df['unique_id'].unique())"
   ]
  },
  {
   "cell_type": "code",
   "execution_count": null,
   "id": "7c8643f5",
   "metadata": {},
   "outputs": [],
   "source": [
    "unlabeled_df = parse_XML('unlabeled.review', \n",
    "          [\n",
    "              't', 'review', 'unique_id', 'asin', 'product_name', 'product_type',\n",
    "              'helpful', 'rating', 'title', 'date', 'reviewer', \n",
    "              'reviewer_location', 'review_text'\n",
    "          ])\n",
    "unlabeled_df.replace(r'\\n','', regex=True, inplace=True) \n",
    "unlabeled_df.drop(columns=['t', 'review'], inplace=True)\n",
    "unlabeled_df.head()"
   ]
  },
  {
   "cell_type": "code",
   "execution_count": null,
   "id": "bdab5980",
   "metadata": {},
   "outputs": [],
   "source": [
    "# Deixando apenas com uma categoria\n",
    "unlabeled_df.groupby('product_type')['product_type'].count()\n",
    "unlabeled_df.drop(unlabeled_df.loc[(unlabeled_df['product_type'] == 'computer andamp; video games')].index, inplace=True)\n",
    "\n",
    "# Verificando se os ids são realmente únicos\n",
    "len(unlabeled_df['unique_id'].unique())"
   ]
  },
  {
   "cell_type": "markdown",
   "id": "83105404",
   "metadata": {},
   "source": [
    "# 2. Análise exploratória dos dados\n",
    "\n",
    "Com os dados devidamente tratados, primeiramente verifica-se se as classes estão desbalanceadas. Em caso de modelos de classificação, classes desbalanceadas podem levar à modelos que classifiquem melhor a classe sobrerepresentada. No caso, ambos os sentimentos positivos e negativos possuem aproximadamente o mesmo número de avaliações.\n",
    "\n",
    "Uma análise mais detalhada dos produtos mostra que o maior número de avaliações por produto é 5, ou seja, os produtos não possuem um alto número de avaliações.\n",
    "\n",
    "Por fim, verifica-se a distribuição do número de palavras por título e texto das avaliações. Como era de se esperar, a variável de título possui uma menor média (26 palavras) que a variável de texto (594 palavras).\n",
    "O histograma do texto das avaliações mostra que 75% das avaliações tem até 720 palavras."
   ]
  },
  {
   "cell_type": "code",
   "execution_count": 147,
   "id": "f2a42b0e",
   "metadata": {},
   "outputs": [
    {
     "data": {
      "text/plain": [
       "sentiment\n",
       "negative     999\n",
       "positive    1000\n",
       "Name: unique_id, dtype: int64"
      ]
     },
     "execution_count": 147,
     "metadata": {},
     "output_type": "execute_result"
    }
   ],
   "source": [
    "# Verificando se classes estão balanceadas\n",
    "df.groupby('sentiment')['unique_id'].count()"
   ]
  },
  {
   "cell_type": "code",
   "execution_count": 41,
   "id": "1c436b13",
   "metadata": {},
   "outputs": [
    {
     "data": {
      "text/plain": [
       "Memorex DVD+R 16x 4.7GB 50 Pack Spindle: Electronics                      5\n",
       "Xtreme TB264DKO 264-Disc CD/DVD Case: Electronics                         5\n",
       "Philips HN060/37 Noise-Canceling Earbuds: Electronics                     5\n",
       "Belkin TuneCast II FM Transmitter: Electronics                            5\n",
       "Altec Lansing FX6021 3-Piece System: Electronics                          4\n",
       "                                                                         ..\n",
       "Case Logic DMB-5 CD Sports Pack: Electronics                              1\n",
       "SanDisk SDDR-80-784 Firewire CF Reader: Electronics                       1\n",
       "HP Photosmart 385 Compact Photo Printer (Q6387A#ABA): Electronics         1\n",
       "SimpleTech SimpleDrive 250 GB External USB 2.0 Hard Drive: Electronics    1\n",
       "Altec Lansing inMotion Portable Audio System for iPod: Electronics        1\n",
       "Name: product_name, Length: 1297, dtype: int64"
      ]
     },
     "execution_count": 41,
     "metadata": {},
     "output_type": "execute_result"
    }
   ],
   "source": [
    "df['product_name'].value_counts()"
   ]
  },
  {
   "cell_type": "code",
   "execution_count": 43,
   "id": "4b42c53d",
   "metadata": {},
   "outputs": [],
   "source": [
    "df['title_len'] = df['title'].apply(lambda x: len(x))\n",
    "df['review_len'] = df['review_text'].apply(lambda x: len(x))"
   ]
  },
  {
   "cell_type": "code",
   "execution_count": 149,
   "id": "9cd878d1",
   "metadata": {},
   "outputs": [
    {
     "name": "stdout",
     "output_type": "stream",
     "text": [
      "Média dos títulos:  25.692846423211606\n",
      "Média dos textos:  593.9614807403702\n"
     ]
    }
   ],
   "source": [
    "print('Média dos títulos: ', df['title_len'].mean())\n",
    "print('Média dos textos: ', df['review_len'].mean())"
   ]
  },
  {
   "cell_type": "code",
   "execution_count": 51,
   "id": "fa857e2a",
   "metadata": {},
   "outputs": [
    {
     "data": {
      "image/png": "[encoded data removed]",
      "text/plain": [
       "<Figure size 1500x600 with 2 Axes>"
      ]
     },
     "metadata": {},
     "output_type": "display_data"
    }
   ],
   "source": [
    "fig, (ax1, ax2) = plt.subplots(1, 2, figsize=(15,6), sharey=True)\n",
    "\n",
    "ax1.hist(df['title_len'], color='#D34817')\n",
    "ax2.hist(df['review_len'], color='#D34817')\n",
    "\n",
    "for ax in ax1, ax2:\n",
    "    ax.axhline(0, c=\"black\")\n",
    "    ax.tick_params(axis='x', labelsize=12)\n",
    "    ax.tick_params(axis='y', labelsize=14)\n",
    "    ax.yaxis.grid(True, color='gray', zorder=1)\n",
    "    ax.xaxis.grid(False)\n",
    "    ax.set_facecolor('white')\n",
    "    plt.rcParams['axes.spines.left'] = False\n",
    "    plt.rcParams['axes.spines.right'] = False\n",
    "    plt.rcParams['axes.spines.top'] = False\n",
    "    plt.rcParams['axes.spines.bottom'] = False\n",
    "\n",
    "fig.suptitle(f\"Quantidade de palavras por campo\", y=1, fontsize=16)\n",
    "footnote = f\"O gráfico mostra o número de palavras no título e na avaliação.\"\n",
    "\n",
    "fig_txt = tw.fill(tw.dedent(footnote.rstrip()), width=150)\n",
    "plt.figtext(0.5, -0.07, fig_txt, horizontalalignment='center', fontsize=12, multialignment=\"left\")\n",
    "plt.box(False)\n",
    "plt.tight_layout()\n",
    "    \n",
    "plt.show()"
   ]
  },
  {
   "cell_type": "markdown",
   "id": "6bb3b896",
   "metadata": {},
   "source": [
    "# 3. Modelos preditivos\n",
    "\n",
    "Esse tópico se destina a criar modelos de classificação com as três features clássicas de processamento de linguagem natural:\n",
    "\n",
    "1. Contagem de palavras: conta a quantidade de cada palavra em uma observação. Essa métrica tende a ser enviesada, porque palavras com maior número de caracteres tendem a ser mais importantes. A métrica abaixo pode solucionar esse problema.\n",
    "2. Frequência de termos: conta a frequência com que a palavra aparece na observação. Essa métrica pode ser enviesada, pois palavras-chave tendem a aparecer com menos frequência que artigos e preposições. \n",
    "3. Frequência do termo–inverso da frequência nos documentos (TD-IDF): Tende a resolver as desvantagens das métricas acima, pois entende que palavras-chave não aparecem tanto.\n",
    "\n",
    "\n",
    "# 3.1 Modelos com features clássicas\n",
    "\n",
    "Os modelos de classificação gerados são:\n",
    "\n",
    "1. Support vector machine\n",
    "2. Árvore de decisão\n",
    "\n",
    "Para cada modelo, foram testadas as três métricas acima, a fim de selecionar o modelo de melhor performance.\n",
    "A métrica de avaliação dos modelos usada foi o recall, pois permite verificar a porcentagem de valores positivos que foram preditos corretamente. Assim, garante-se que o modelo é capaz de acertar as avaliações positivas e, portanto, as negativas também.\n",
    "\n",
    "O modelo que apresentou melhor performance foi o support vector machine com bigramas, ao apresentar um recall de 88%."
   ]
  },
  {
   "cell_type": "code",
   "execution_count": 57,
   "id": "46afa3b8",
   "metadata": {},
   "outputs": [],
   "source": [
    "df['full_text'] = (df['title'] + \" \" + df['review_text']).str.lower()\n",
    "le = LabelEncoder()\n",
    "X = df['full_text']\n",
    "y = le.fit_transform(df['sentiment'])"
   ]
  },
  {
   "cell_type": "code",
   "execution_count": 88,
   "id": "8e255879",
   "metadata": {},
   "outputs": [],
   "source": [
    "# CREATING WORD COUNT WITH UNIGRAM\n",
    "count_vec = CountVectorizer()\n",
    "X_counts = count_vec.fit_transform(X)\n",
    "\n",
    "# CREATING WORD COUNT WITH BIGRAM\n",
    "count_vec_ngram = CountVectorizer(ngram_range=(2, 2))\n",
    "X_counts_bigram = count_vec_ngram.fit_transform(X)\n",
    "\n",
    "# CREATING WORD FREQUENCY\n",
    "tf = TfidfTransformer(use_idf=False, norm=\"l1\")\n",
    "X_freq = tf.fit_transform(X_counts)\n",
    "\n",
    "# CREATING TF-IDF\n",
    "tf = TfidfTransformer(norm=\"l1\")\n",
    "X_tfidf = tf.fit_transform(X_counts)\n",
    "\n",
    "# BIGRAMA COM WORD FREQUENCY E TF-IDF\n",
    "X_freq_bigram = tf.fit_transform(X_counts_bigram)\n",
    "X_tfidf_bigram = tf.fit_transform(X_counts_bigram)\n",
    "\n",
    "# SEPARAÇÃO EM TREINO E TESTE\n",
    "X_train_counts, X_test_counts, y_train_counts, y_test_counts = train_test_split(X_counts, y, test_size=.2)\n",
    "X_train_bigram, X_test_bigram, y_train_bigram, y_test_bigram = train_test_split(X_counts_bigram, y, test_size=.2)\n",
    "X_train_freq, X_test_freq, y_train_freq, y_test_freq = train_test_split(X_freq, y, test_size=.2)\n",
    "X_train_tfidf, X_test_tfidf, y_train_tfidf, y_test_tfidf = train_test_split(X_tfidf, y, test_size=.2)\n",
    "X_train_freq_bigram, X_test_freq_bigram, y_train_freq_bigram, y_test_freq_bigram = train_test_split(X_freq_bigram, y, test_size=.2)\n",
    "X_train_tfidf_bigram, X_test_tfidf_bigram, y_train_tfidf_bigram, y_test_tfidf_bigram = train_test_split(X_tfidf_bigram, y, test_size=.2)"
   ]
  },
  {
   "cell_type": "code",
   "execution_count": 104,
   "id": "29106b7b",
   "metadata": {},
   "outputs": [
    {
     "name": "stderr",
     "output_type": "stream",
     "text": [
      "C:\\Users\\Victoria\\anaconda3\\lib\\site-packages\\sklearn\\svm\\_base.py:985: ConvergenceWarning: Liblinear failed to converge, increase the number of iterations.\n",
      "  warnings.warn(\"Liblinear failed to converge, increase \"\n",
      "C:\\Users\\Victoria\\anaconda3\\lib\\site-packages\\sklearn\\svm\\_base.py:985: ConvergenceWarning: Liblinear failed to converge, increase the number of iterations.\n",
      "  warnings.warn(\"Liblinear failed to converge, increase \"\n",
      "C:\\Users\\Victoria\\anaconda3\\lib\\site-packages\\sklearn\\svm\\_base.py:985: ConvergenceWarning: Liblinear failed to converge, increase the number of iterations.\n",
      "  warnings.warn(\"Liblinear failed to converge, increase \"\n",
      "C:\\Users\\Victoria\\anaconda3\\lib\\site-packages\\sklearn\\svm\\_base.py:985: ConvergenceWarning: Liblinear failed to converge, increase the number of iterations.\n",
      "  warnings.warn(\"Liblinear failed to converge, increase \"\n",
      "C:\\Users\\Victoria\\anaconda3\\lib\\site-packages\\sklearn\\svm\\_base.py:985: ConvergenceWarning: Liblinear failed to converge, increase the number of iterations.\n",
      "  warnings.warn(\"Liblinear failed to converge, increase \"\n",
      "C:\\Users\\Victoria\\anaconda3\\lib\\site-packages\\sklearn\\svm\\_base.py:985: ConvergenceWarning: Liblinear failed to converge, increase the number of iterations.\n",
      "  warnings.warn(\"Liblinear failed to converge, increase \"\n",
      "C:\\Users\\Victoria\\anaconda3\\lib\\site-packages\\sklearn\\svm\\_base.py:985: ConvergenceWarning: Liblinear failed to converge, increase the number of iterations.\n",
      "  warnings.warn(\"Liblinear failed to converge, increase \"\n",
      "C:\\Users\\Victoria\\anaconda3\\lib\\site-packages\\sklearn\\svm\\_base.py:985: ConvergenceWarning: Liblinear failed to converge, increase the number of iterations.\n",
      "  warnings.warn(\"Liblinear failed to converge, increase \"\n",
      "C:\\Users\\Victoria\\anaconda3\\lib\\site-packages\\sklearn\\svm\\_base.py:985: ConvergenceWarning: Liblinear failed to converge, increase the number of iterations.\n",
      "  warnings.warn(\"Liblinear failed to converge, increase \"\n",
      "C:\\Users\\Victoria\\anaconda3\\lib\\site-packages\\sklearn\\svm\\_base.py:985: ConvergenceWarning: Liblinear failed to converge, increase the number of iterations.\n",
      "  warnings.warn(\"Liblinear failed to converge, increase \"\n",
      "C:\\Users\\Victoria\\anaconda3\\lib\\site-packages\\sklearn\\svm\\_base.py:985: ConvergenceWarning: Liblinear failed to converge, increase the number of iterations.\n",
      "  warnings.warn(\"Liblinear failed to converge, increase \"\n",
      "C:\\Users\\Victoria\\anaconda3\\lib\\site-packages\\sklearn\\svm\\_base.py:985: ConvergenceWarning: Liblinear failed to converge, increase the number of iterations.\n",
      "  warnings.warn(\"Liblinear failed to converge, increase \"\n",
      "C:\\Users\\Victoria\\anaconda3\\lib\\site-packages\\sklearn\\svm\\_base.py:985: ConvergenceWarning: Liblinear failed to converge, increase the number of iterations.\n",
      "  warnings.warn(\"Liblinear failed to converge, increase \"\n",
      "C:\\Users\\Victoria\\anaconda3\\lib\\site-packages\\sklearn\\svm\\_base.py:985: ConvergenceWarning: Liblinear failed to converge, increase the number of iterations.\n",
      "  warnings.warn(\"Liblinear failed to converge, increase \"\n",
      "C:\\Users\\Victoria\\anaconda3\\lib\\site-packages\\sklearn\\svm\\_base.py:985: ConvergenceWarning: Liblinear failed to converge, increase the number of iterations.\n",
      "  warnings.warn(\"Liblinear failed to converge, increase \"\n",
      "C:\\Users\\Victoria\\anaconda3\\lib\\site-packages\\sklearn\\svm\\_base.py:985: ConvergenceWarning: Liblinear failed to converge, increase the number of iterations.\n",
      "  warnings.warn(\"Liblinear failed to converge, increase \"\n",
      "C:\\Users\\Victoria\\anaconda3\\lib\\site-packages\\sklearn\\svm\\_base.py:985: ConvergenceWarning: Liblinear failed to converge, increase the number of iterations.\n",
      "  warnings.warn(\"Liblinear failed to converge, increase \"\n",
      "C:\\Users\\Victoria\\anaconda3\\lib\\site-packages\\sklearn\\svm\\_base.py:985: ConvergenceWarning: Liblinear failed to converge, increase the number of iterations.\n",
      "  warnings.warn(\"Liblinear failed to converge, increase \"\n",
      "C:\\Users\\Victoria\\anaconda3\\lib\\site-packages\\sklearn\\svm\\_base.py:985: ConvergenceWarning: Liblinear failed to converge, increase the number of iterations.\n",
      "  warnings.warn(\"Liblinear failed to converge, increase \"\n",
      "C:\\Users\\Victoria\\anaconda3\\lib\\site-packages\\sklearn\\svm\\_base.py:985: ConvergenceWarning: Liblinear failed to converge, increase the number of iterations.\n",
      "  warnings.warn(\"Liblinear failed to converge, increase \"\n",
      "C:\\Users\\Victoria\\anaconda3\\lib\\site-packages\\sklearn\\svm\\_base.py:985: ConvergenceWarning: Liblinear failed to converge, increase the number of iterations.\n",
      "  warnings.warn(\"Liblinear failed to converge, increase \"\n",
      "C:\\Users\\Victoria\\anaconda3\\lib\\site-packages\\sklearn\\svm\\_base.py:985: ConvergenceWarning: Liblinear failed to converge, increase the number of iterations.\n",
      "  warnings.warn(\"Liblinear failed to converge, increase \"\n",
      "C:\\Users\\Victoria\\anaconda3\\lib\\site-packages\\sklearn\\svm\\_base.py:985: ConvergenceWarning: Liblinear failed to converge, increase the number of iterations.\n",
      "  warnings.warn(\"Liblinear failed to converge, increase \"\n",
      "C:\\Users\\Victoria\\anaconda3\\lib\\site-packages\\sklearn\\svm\\_base.py:985: ConvergenceWarning: Liblinear failed to converge, increase the number of iterations.\n",
      "  warnings.warn(\"Liblinear failed to converge, increase \"\n",
      "C:\\Users\\Victoria\\anaconda3\\lib\\site-packages\\sklearn\\svm\\_base.py:985: ConvergenceWarning: Liblinear failed to converge, increase the number of iterations.\n",
      "  warnings.warn(\"Liblinear failed to converge, increase \"\n",
      "C:\\Users\\Victoria\\anaconda3\\lib\\site-packages\\sklearn\\svm\\_base.py:985: ConvergenceWarning: Liblinear failed to converge, increase the number of iterations.\n",
      "  warnings.warn(\"Liblinear failed to converge, increase \"\n",
      "C:\\Users\\Victoria\\anaconda3\\lib\\site-packages\\sklearn\\svm\\_base.py:985: ConvergenceWarning: Liblinear failed to converge, increase the number of iterations.\n",
      "  warnings.warn(\"Liblinear failed to converge, increase \"\n",
      "C:\\Users\\Victoria\\anaconda3\\lib\\site-packages\\sklearn\\svm\\_base.py:985: ConvergenceWarning: Liblinear failed to converge, increase the number of iterations.\n",
      "  warnings.warn(\"Liblinear failed to converge, increase \"\n",
      "C:\\Users\\Victoria\\anaconda3\\lib\\site-packages\\sklearn\\svm\\_base.py:985: ConvergenceWarning: Liblinear failed to converge, increase the number of iterations.\n",
      "  warnings.warn(\"Liblinear failed to converge, increase \"\n",
      "C:\\Users\\Victoria\\anaconda3\\lib\\site-packages\\sklearn\\svm\\_base.py:985: ConvergenceWarning: Liblinear failed to converge, increase the number of iterations.\n",
      "  warnings.warn(\"Liblinear failed to converge, increase \"\n",
      "C:\\Users\\Victoria\\anaconda3\\lib\\site-packages\\sklearn\\svm\\_base.py:985: ConvergenceWarning: Liblinear failed to converge, increase the number of iterations.\n",
      "  warnings.warn(\"Liblinear failed to converge, increase \"\n",
      "C:\\Users\\Victoria\\anaconda3\\lib\\site-packages\\sklearn\\svm\\_base.py:985: ConvergenceWarning: Liblinear failed to converge, increase the number of iterations.\n",
      "  warnings.warn(\"Liblinear failed to converge, increase \"\n",
      "C:\\Users\\Victoria\\anaconda3\\lib\\site-packages\\sklearn\\svm\\_base.py:985: ConvergenceWarning: Liblinear failed to converge, increase the number of iterations.\n",
      "  warnings.warn(\"Liblinear failed to converge, increase \"\n",
      "C:\\Users\\Victoria\\anaconda3\\lib\\site-packages\\sklearn\\svm\\_base.py:985: ConvergenceWarning: Liblinear failed to converge, increase the number of iterations.\n",
      "  warnings.warn(\"Liblinear failed to converge, increase \"\n",
      "C:\\Users\\Victoria\\anaconda3\\lib\\site-packages\\sklearn\\svm\\_base.py:985: ConvergenceWarning: Liblinear failed to converge, increase the number of iterations.\n",
      "  warnings.warn(\"Liblinear failed to converge, increase \"\n",
      "C:\\Users\\Victoria\\anaconda3\\lib\\site-packages\\sklearn\\svm\\_base.py:985: ConvergenceWarning: Liblinear failed to converge, increase the number of iterations.\n",
      "  warnings.warn(\"Liblinear failed to converge, increase \"\n",
      "C:\\Users\\Victoria\\anaconda3\\lib\\site-packages\\sklearn\\svm\\_base.py:985: ConvergenceWarning: Liblinear failed to converge, increase the number of iterations.\n",
      "  warnings.warn(\"Liblinear failed to converge, increase \"\n",
      "C:\\Users\\Victoria\\anaconda3\\lib\\site-packages\\sklearn\\svm\\_base.py:985: ConvergenceWarning: Liblinear failed to converge, increase the number of iterations.\n",
      "  warnings.warn(\"Liblinear failed to converge, increase \"\n",
      "C:\\Users\\Victoria\\anaconda3\\lib\\site-packages\\sklearn\\svm\\_base.py:985: ConvergenceWarning: Liblinear failed to converge, increase the number of iterations.\n",
      "  warnings.warn(\"Liblinear failed to converge, increase \"\n"
     ]
    },
    {
     "name": "stderr",
     "output_type": "stream",
     "text": [
      "C:\\Users\\Victoria\\anaconda3\\lib\\site-packages\\sklearn\\svm\\_base.py:985: ConvergenceWarning: Liblinear failed to converge, increase the number of iterations.\n",
      "  warnings.warn(\"Liblinear failed to converge, increase \"\n",
      "C:\\Users\\Victoria\\anaconda3\\lib\\site-packages\\sklearn\\svm\\_base.py:985: ConvergenceWarning: Liblinear failed to converge, increase the number of iterations.\n",
      "  warnings.warn(\"Liblinear failed to converge, increase \"\n",
      "C:\\Users\\Victoria\\anaconda3\\lib\\site-packages\\sklearn\\svm\\_base.py:985: ConvergenceWarning: Liblinear failed to converge, increase the number of iterations.\n",
      "  warnings.warn(\"Liblinear failed to converge, increase \"\n",
      "C:\\Users\\Victoria\\anaconda3\\lib\\site-packages\\sklearn\\svm\\_base.py:985: ConvergenceWarning: Liblinear failed to converge, increase the number of iterations.\n",
      "  warnings.warn(\"Liblinear failed to converge, increase \"\n",
      "C:\\Users\\Victoria\\anaconda3\\lib\\site-packages\\sklearn\\svm\\_base.py:985: ConvergenceWarning: Liblinear failed to converge, increase the number of iterations.\n",
      "  warnings.warn(\"Liblinear failed to converge, increase \"\n",
      "C:\\Users\\Victoria\\anaconda3\\lib\\site-packages\\sklearn\\svm\\_base.py:985: ConvergenceWarning: Liblinear failed to converge, increase the number of iterations.\n",
      "  warnings.warn(\"Liblinear failed to converge, increase \"\n",
      "C:\\Users\\Victoria\\anaconda3\\lib\\site-packages\\sklearn\\svm\\_base.py:985: ConvergenceWarning: Liblinear failed to converge, increase the number of iterations.\n",
      "  warnings.warn(\"Liblinear failed to converge, increase \"\n",
      "C:\\Users\\Victoria\\anaconda3\\lib\\site-packages\\sklearn\\svm\\_base.py:985: ConvergenceWarning: Liblinear failed to converge, increase the number of iterations.\n",
      "  warnings.warn(\"Liblinear failed to converge, increase \"\n",
      "C:\\Users\\Victoria\\anaconda3\\lib\\site-packages\\sklearn\\svm\\_base.py:985: ConvergenceWarning: Liblinear failed to converge, increase the number of iterations.\n",
      "  warnings.warn(\"Liblinear failed to converge, increase \"\n",
      "C:\\Users\\Victoria\\anaconda3\\lib\\site-packages\\sklearn\\svm\\_base.py:985: ConvergenceWarning: Liblinear failed to converge, increase the number of iterations.\n",
      "  warnings.warn(\"Liblinear failed to converge, increase \"\n",
      "C:\\Users\\Victoria\\anaconda3\\lib\\site-packages\\sklearn\\svm\\_base.py:985: ConvergenceWarning: Liblinear failed to converge, increase the number of iterations.\n",
      "  warnings.warn(\"Liblinear failed to converge, increase \"\n",
      "C:\\Users\\Victoria\\anaconda3\\lib\\site-packages\\sklearn\\svm\\_base.py:985: ConvergenceWarning: Liblinear failed to converge, increase the number of iterations.\n",
      "  warnings.warn(\"Liblinear failed to converge, increase \"\n",
      "C:\\Users\\Victoria\\anaconda3\\lib\\site-packages\\sklearn\\svm\\_base.py:985: ConvergenceWarning: Liblinear failed to converge, increase the number of iterations.\n",
      "  warnings.warn(\"Liblinear failed to converge, increase \"\n"
     ]
    }
   ],
   "source": [
    "# SVM - COMO RESOLVER ESSE WARNING?\n",
    "\n",
    "param_grid = [\n",
    "  {'C': [1, 10, 100, 1000]}\n",
    " ]\n",
    "\n",
    "svc = LinearSVC()\n",
    "svm_counts = GridSearchCV(svc, param_grid).fit(X_train_counts, y_train_counts)\n",
    "svm_bigram = GridSearchCV(svc, param_grid).fit(X_train_bigram, y_train_bigram)\n",
    "svm_freq = GridSearchCV(svc, param_grid).fit(X_train_freq, y_train_freq)\n",
    "svm_tfidf = GridSearchCV(svc, param_grid).fit(X_train_tfidf, y_train_tfidf)\n",
    "\n",
    "svm_y_pred_counts = svm_counts.predict(X_test_counts)\n",
    "svm_y_pred_bigram = svm_bigram.predict(X_test_bigram)\n",
    "svm_y_pred_freq = svm_freq.predict(X_test_freq)\n",
    "svm_y_pred_tfidf = svm_tfidf.predict(X_test_tfidf)"
   ]
  },
  {
   "cell_type": "code",
   "execution_count": 105,
   "id": "8df69fc5",
   "metadata": {},
   "outputs": [
    {
     "name": "stdout",
     "output_type": "stream",
     "text": [
      "Métricas usando SVM\n",
      "Recall de counts = 0.8571428571428571\n",
      "Recall de bigram = 0.8863636363636364\n",
      "Recall de freq = 0.8446601941747572\n",
      "Recall de tfidf = 0.8563829787234043\n"
     ]
    }
   ],
   "source": [
    "svm_rec_counts = recall_score(y_test_counts, svm_y_pred_counts)\n",
    "svm_rec_bigram = recall_score(y_test_bigram, svm_y_pred_bigram)\n",
    "svm_rec_freq = recall_score(y_test_freq, svm_y_pred_freq)\n",
    "svm_rec_tfidf = recall_score(y_test_tfidf, svm_y_pred_tfidf)\n",
    "\n",
    "print(\"Métricas usando SVM\")\n",
    "print(\"Recall de counts = {}\".format(svm_rec_counts))\n",
    "print(\"Recall de bigram = {}\".format(svm_rec_bigram))\n",
    "print(\"Recall de freq = {}\".format(svm_rec_freq))\n",
    "print(\"Recall de tfidf = {}\".format(svm_rec_tfidf))"
   ]
  },
  {
   "cell_type": "code",
   "execution_count": 101,
   "id": "2ee3c3a2",
   "metadata": {},
   "outputs": [
    {
     "name": "stdout",
     "output_type": "stream",
     "text": [
      "Métricas usando árvore de decisão\n",
      "Recall de counts = 0.8226600985221675\n",
      "Recall de freq = 0.7524271844660194\n",
      "Recall de tfidf = 0.6702127659574468\n"
     ]
    }
   ],
   "source": [
    "# ÁRVORE DE DECISÃO - POR QUE BIGRAMA NÃO FUNCIONA?\n",
    "\n",
    "tree = tree\n",
    "tree_counts = tree.fit(X_train_counts, y_train_counts)\n",
    "tree_freq = tree.fit(X_train_freq, y_train_freq)\n",
    "tree_tfidf = tree.fit(X_train_tfidf, y_train_tfidf)\n",
    "\n",
    "tree_y_pred_counts = tree_counts.predict(X_test_counts)\n",
    "tree_y_pred_freq = tree_freq.predict(X_test_freq)\n",
    "tree_y_pred_tfidf = tree_tfidf.predict(X_test_tfidf)\n",
    "\n",
    "tree_rec_counts = recall_score(y_test_counts, tree_y_pred_counts)\n",
    "tree_rec_freq = recall_score(y_test_freq, tree_y_pred_freq)\n",
    "tree_rec_tfidf = recall_score(y_test_tfidf, tree_y_pred_tfidf)\n",
    "\n",
    "print(\"Métricas usando árvore de decisão\")\n",
    "print(\"Recall de counts = {}\".format(tree_rec_counts))\n",
    "print(\"Recall de freq = {}\".format(tree_rec_freq))\n",
    "print(\"Recall de tfidf = {}\".format(tree_rec_tfidf))"
   ]
  },
  {
   "cell_type": "code",
   "execution_count": 99,
   "id": "f402bcd1",
   "metadata": {},
   "outputs": [
    {
     "name": "stdout",
     "output_type": "stream",
     "text": [
      "Recall de bigram = 0.8318181818181818\n"
     ]
    }
   ],
   "source": [
    "tree_counts_bigram = tree.fit(X_train_bigram, y_train_bigram)\n",
    "tree_y_pred_bigram = tree_counts_bigram.predict(X_test_bigram)\n",
    "tree_rec_counts_bigram = recall_score(y_test_bigram, tree_y_pred_bigram)\n",
    "print(\"Recall de bigram = {}\".format(tree_rec_counts_bigram))"
   ]
  },
  {
   "cell_type": "markdown",
   "id": "95ad1ae7",
   "metadata": {},
   "source": [
    "# 3.2 Bigrama com TF-IDF\n",
    "\n",
    "Como os modelos rodados com bigramas apresentaram melhor performance que os modelos criados com unigramas, roda-se os modelos com bigramas e TF-IDF, pois essa métrica tende a corrigir problemas inerentes a contagem de palavras. Porém, o modelo rodado claramente apresente overfitting, já que o recall é de 1.0."
   ]
  },
  {
   "cell_type": "code",
   "execution_count": 103,
   "id": "937d3395",
   "metadata": {},
   "outputs": [
    {
     "name": "stderr",
     "output_type": "stream",
     "text": [
      "C:\\Users\\Victoria\\anaconda3\\lib\\site-packages\\sklearn\\svm\\_base.py:985: ConvergenceWarning: Liblinear failed to converge, increase the number of iterations.\n",
      "  warnings.warn(\"Liblinear failed to converge, increase \"\n",
      "C:\\Users\\Victoria\\anaconda3\\lib\\site-packages\\sklearn\\svm\\_base.py:985: ConvergenceWarning: Liblinear failed to converge, increase the number of iterations.\n",
      "  warnings.warn(\"Liblinear failed to converge, increase \"\n",
      "C:\\Users\\Victoria\\anaconda3\\lib\\site-packages\\sklearn\\svm\\_base.py:985: ConvergenceWarning: Liblinear failed to converge, increase the number of iterations.\n",
      "  warnings.warn(\"Liblinear failed to converge, increase \"\n",
      "C:\\Users\\Victoria\\anaconda3\\lib\\site-packages\\sklearn\\svm\\_base.py:985: ConvergenceWarning: Liblinear failed to converge, increase the number of iterations.\n",
      "  warnings.warn(\"Liblinear failed to converge, increase \"\n",
      "C:\\Users\\Victoria\\anaconda3\\lib\\site-packages\\sklearn\\svm\\_base.py:985: ConvergenceWarning: Liblinear failed to converge, increase the number of iterations.\n",
      "  warnings.warn(\"Liblinear failed to converge, increase \"\n",
      "C:\\Users\\Victoria\\anaconda3\\lib\\site-packages\\sklearn\\svm\\_base.py:985: ConvergenceWarning: Liblinear failed to converge, increase the number of iterations.\n",
      "  warnings.warn(\"Liblinear failed to converge, increase \"\n",
      "C:\\Users\\Victoria\\anaconda3\\lib\\site-packages\\sklearn\\svm\\_base.py:985: ConvergenceWarning: Liblinear failed to converge, increase the number of iterations.\n",
      "  warnings.warn(\"Liblinear failed to converge, increase \"\n",
      "C:\\Users\\Victoria\\anaconda3\\lib\\site-packages\\sklearn\\svm\\_base.py:985: ConvergenceWarning: Liblinear failed to converge, increase the number of iterations.\n",
      "  warnings.warn(\"Liblinear failed to converge, increase \"\n",
      "C:\\Users\\Victoria\\anaconda3\\lib\\site-packages\\sklearn\\svm\\_base.py:985: ConvergenceWarning: Liblinear failed to converge, increase the number of iterations.\n",
      "  warnings.warn(\"Liblinear failed to converge, increase \"\n",
      "C:\\Users\\Victoria\\anaconda3\\lib\\site-packages\\sklearn\\svm\\_base.py:985: ConvergenceWarning: Liblinear failed to converge, increase the number of iterations.\n",
      "  warnings.warn(\"Liblinear failed to converge, increase \"\n",
      "C:\\Users\\Victoria\\anaconda3\\lib\\site-packages\\sklearn\\svm\\_base.py:985: ConvergenceWarning: Liblinear failed to converge, increase the number of iterations.\n",
      "  warnings.warn(\"Liblinear failed to converge, increase \"\n"
     ]
    },
    {
     "name": "stdout",
     "output_type": "stream",
     "text": [
      "Recall de svm tfidf bigrama = 0.8291457286432161\n",
      "Recall de tree tfidf bigrama = 0.7537688442211056\n"
     ]
    }
   ],
   "source": [
    "# BIGRAMA COM TFIDF\n",
    "svm_tfidf_bigram = GridSearchCV(svc, param_grid).fit(X_train_tfidf_bigram, y_train_tfidf_bigram)\n",
    "tree_tfidf_bigram = tree.fit(X_train_tfidf_bigram, y_train_tfidf_bigram)\n",
    "\n",
    "svm_y_pred_tfidf_bigram = svm_tfidf_bigram.predict(X_test_tfidf_bigram)\n",
    "tree_y_pred_tfidf_bigram = tree_tfidf_bigram.predict(X_test_tfidf_bigram)\n",
    "\n",
    "svm_rec_tfidf_bigram = recall_score(y_test_tfidf_bigram, svm_y_pred_tfidf_bigram)\n",
    "tree_rec_tfidf_bigram = recall_score(y_test_tfidf_bigram, tree_y_pred_tfidf_bigram)\n",
    "\n",
    "print(\"Recall de svm tfidf bigrama = {}\".format(svm_rec_tfidf_bigram))\n",
    "print(\"Recall de tree tfidf bigrama = {}\".format(tree_rec_tfidf_bigram))"
   ]
  },
  {
   "cell_type": "markdown",
   "id": "c7557ae8",
   "metadata": {},
   "source": [
    "# 4. Implementação do modelo\n",
    "\n",
    "Este tópico se destina à implementação do modelo com melhor performance para previsão do sentimento em avaliações ainda não classificadas da categoria eletrônicos.\n",
    "\n",
    "Para isso, roda-se o modelo de classificação que apresentou melhor performance: support vector machine com bigramas."
   ]
  },
  {
   "cell_type": "code",
   "execution_count": 142,
   "id": "29996949",
   "metadata": {},
   "outputs": [],
   "source": [
    "unlabeled_df['full_text'] = (unlabeled_df['title'] + \" \" + unlabeled_df['review_text']).str.lower()\n",
    "unlabeled_X = unlabeled_df['full_text']\n",
    "unlabeled_X_bigram = count_vec_ngram.fit_transform(unlabeled_X)"
   ]
  },
  {
   "cell_type": "code",
   "execution_count": 146,
   "id": "f4c7e559",
   "metadata": {},
   "outputs": [
    {
     "ename": "ValueError",
     "evalue": "X has 391033 features per sample; expecting 99694",
     "output_type": "error",
     "traceback": [
      "\u001b[1;31m---------------------------------------------------------------------------\u001b[0m",
      "\u001b[1;31mValueError\u001b[0m                                Traceback (most recent call last)",
      "\u001b[1;32m<ipython-input-146-e883a3d751c8>\u001b[0m in \u001b[0;36m<module>\u001b[1;34m\u001b[0m\n\u001b[1;32m----> 1\u001b[1;33m \u001b[0msvm_y_pred_bigram\u001b[0m \u001b[1;33m=\u001b[0m \u001b[0msvm_bigram\u001b[0m\u001b[1;33m.\u001b[0m\u001b[0mpredict\u001b[0m\u001b[1;33m(\u001b[0m\u001b[0munlabeled_X_bigram\u001b[0m\u001b[1;33m)\u001b[0m\u001b[1;33m\u001b[0m\u001b[1;33m\u001b[0m\u001b[0m\n\u001b[0m",
      "\u001b[1;32m~\\anaconda3\\lib\\site-packages\\sklearn\\utils\\metaestimators.py\u001b[0m in \u001b[0;36m<lambda>\u001b[1;34m(*args, **kwargs)\u001b[0m\n\u001b[0;32m    118\u001b[0m \u001b[1;33m\u001b[0m\u001b[0m\n\u001b[0;32m    119\u001b[0m         \u001b[1;31m# lambda, but not partial, allows help() to work with update_wrapper\u001b[0m\u001b[1;33m\u001b[0m\u001b[1;33m\u001b[0m\u001b[1;33m\u001b[0m\u001b[0m\n\u001b[1;32m--> 120\u001b[1;33m         \u001b[0mout\u001b[0m \u001b[1;33m=\u001b[0m \u001b[1;32mlambda\u001b[0m \u001b[1;33m*\u001b[0m\u001b[0margs\u001b[0m\u001b[1;33m,\u001b[0m \u001b[1;33m**\u001b[0m\u001b[0mkwargs\u001b[0m\u001b[1;33m:\u001b[0m \u001b[0mself\u001b[0m\u001b[1;33m.\u001b[0m\u001b[0mfn\u001b[0m\u001b[1;33m(\u001b[0m\u001b[0mobj\u001b[0m\u001b[1;33m,\u001b[0m \u001b[1;33m*\u001b[0m\u001b[0margs\u001b[0m\u001b[1;33m,\u001b[0m \u001b[1;33m**\u001b[0m\u001b[0mkwargs\u001b[0m\u001b[1;33m)\u001b[0m\u001b[1;33m\u001b[0m\u001b[1;33m\u001b[0m\u001b[0m\n\u001b[0m\u001b[0;32m    121\u001b[0m         \u001b[1;31m# update the docstring of the returned function\u001b[0m\u001b[1;33m\u001b[0m\u001b[1;33m\u001b[0m\u001b[1;33m\u001b[0m\u001b[0m\n\u001b[0;32m    122\u001b[0m         \u001b[0mupdate_wrapper\u001b[0m\u001b[1;33m(\u001b[0m\u001b[0mout\u001b[0m\u001b[1;33m,\u001b[0m \u001b[0mself\u001b[0m\u001b[1;33m.\u001b[0m\u001b[0mfn\u001b[0m\u001b[1;33m)\u001b[0m\u001b[1;33m\u001b[0m\u001b[1;33m\u001b[0m\u001b[0m\n",
      "\u001b[1;32m~\\anaconda3\\lib\\site-packages\\sklearn\\model_selection\\_search.py\u001b[0m in \u001b[0;36mpredict\u001b[1;34m(self, X)\u001b[0m\n\u001b[0;32m    538\u001b[0m         \"\"\"\n\u001b[0;32m    539\u001b[0m         \u001b[0mself\u001b[0m\u001b[1;33m.\u001b[0m\u001b[0m_check_is_fitted\u001b[0m\u001b[1;33m(\u001b[0m\u001b[1;34m'predict'\u001b[0m\u001b[1;33m)\u001b[0m\u001b[1;33m\u001b[0m\u001b[1;33m\u001b[0m\u001b[0m\n\u001b[1;32m--> 540\u001b[1;33m         \u001b[1;32mreturn\u001b[0m \u001b[0mself\u001b[0m\u001b[1;33m.\u001b[0m\u001b[0mbest_estimator_\u001b[0m\u001b[1;33m.\u001b[0m\u001b[0mpredict\u001b[0m\u001b[1;33m(\u001b[0m\u001b[0mX\u001b[0m\u001b[1;33m)\u001b[0m\u001b[1;33m\u001b[0m\u001b[1;33m\u001b[0m\u001b[0m\n\u001b[0m\u001b[0;32m    541\u001b[0m \u001b[1;33m\u001b[0m\u001b[0m\n\u001b[0;32m    542\u001b[0m     \u001b[1;33m@\u001b[0m\u001b[0mif_delegate_has_method\u001b[0m\u001b[1;33m(\u001b[0m\u001b[0mdelegate\u001b[0m\u001b[1;33m=\u001b[0m\u001b[1;33m(\u001b[0m\u001b[1;34m'best_estimator_'\u001b[0m\u001b[1;33m,\u001b[0m \u001b[1;34m'estimator'\u001b[0m\u001b[1;33m)\u001b[0m\u001b[1;33m)\u001b[0m\u001b[1;33m\u001b[0m\u001b[1;33m\u001b[0m\u001b[0m\n",
      "\u001b[1;32m~\\anaconda3\\lib\\site-packages\\sklearn\\linear_model\\_base.py\u001b[0m in \u001b[0;36mpredict\u001b[1;34m(self, X)\u001b[0m\n\u001b[0;32m    307\u001b[0m             \u001b[0mPredicted\u001b[0m \u001b[1;32mclass\u001b[0m \u001b[0mlabel\u001b[0m \u001b[0mper\u001b[0m \u001b[0msample\u001b[0m\u001b[1;33m.\u001b[0m\u001b[1;33m\u001b[0m\u001b[1;33m\u001b[0m\u001b[0m\n\u001b[0;32m    308\u001b[0m         \"\"\"\n\u001b[1;32m--> 309\u001b[1;33m         \u001b[0mscores\u001b[0m \u001b[1;33m=\u001b[0m \u001b[0mself\u001b[0m\u001b[1;33m.\u001b[0m\u001b[0mdecision_function\u001b[0m\u001b[1;33m(\u001b[0m\u001b[0mX\u001b[0m\u001b[1;33m)\u001b[0m\u001b[1;33m\u001b[0m\u001b[1;33m\u001b[0m\u001b[0m\n\u001b[0m\u001b[0;32m    310\u001b[0m         \u001b[1;32mif\u001b[0m \u001b[0mlen\u001b[0m\u001b[1;33m(\u001b[0m\u001b[0mscores\u001b[0m\u001b[1;33m.\u001b[0m\u001b[0mshape\u001b[0m\u001b[1;33m)\u001b[0m \u001b[1;33m==\u001b[0m \u001b[1;36m1\u001b[0m\u001b[1;33m:\u001b[0m\u001b[1;33m\u001b[0m\u001b[1;33m\u001b[0m\u001b[0m\n\u001b[0;32m    311\u001b[0m             \u001b[0mindices\u001b[0m \u001b[1;33m=\u001b[0m \u001b[1;33m(\u001b[0m\u001b[0mscores\u001b[0m \u001b[1;33m>\u001b[0m \u001b[1;36m0\u001b[0m\u001b[1;33m)\u001b[0m\u001b[1;33m.\u001b[0m\u001b[0mastype\u001b[0m\u001b[1;33m(\u001b[0m\u001b[0mint\u001b[0m\u001b[1;33m)\u001b[0m\u001b[1;33m\u001b[0m\u001b[1;33m\u001b[0m\u001b[0m\n",
      "\u001b[1;32m~\\anaconda3\\lib\\site-packages\\sklearn\\linear_model\\_base.py\u001b[0m in \u001b[0;36mdecision_function\u001b[1;34m(self, X)\u001b[0m\n\u001b[0;32m    286\u001b[0m         \u001b[0mn_features\u001b[0m \u001b[1;33m=\u001b[0m \u001b[0mself\u001b[0m\u001b[1;33m.\u001b[0m\u001b[0mcoef_\u001b[0m\u001b[1;33m.\u001b[0m\u001b[0mshape\u001b[0m\u001b[1;33m[\u001b[0m\u001b[1;36m1\u001b[0m\u001b[1;33m]\u001b[0m\u001b[1;33m\u001b[0m\u001b[1;33m\u001b[0m\u001b[0m\n\u001b[0;32m    287\u001b[0m         \u001b[1;32mif\u001b[0m \u001b[0mX\u001b[0m\u001b[1;33m.\u001b[0m\u001b[0mshape\u001b[0m\u001b[1;33m[\u001b[0m\u001b[1;36m1\u001b[0m\u001b[1;33m]\u001b[0m \u001b[1;33m!=\u001b[0m \u001b[0mn_features\u001b[0m\u001b[1;33m:\u001b[0m\u001b[1;33m\u001b[0m\u001b[1;33m\u001b[0m\u001b[0m\n\u001b[1;32m--> 288\u001b[1;33m             raise ValueError(\"X has %d features per sample; expecting %d\"\n\u001b[0m\u001b[0;32m    289\u001b[0m                              % (X.shape[1], n_features))\n\u001b[0;32m    290\u001b[0m \u001b[1;33m\u001b[0m\u001b[0m\n",
      "\u001b[1;31mValueError\u001b[0m: X has 391033 features per sample; expecting 99694"
     ]
    }
   ],
   "source": [
    "svm_y_pred_bigram = svm_bigram.predict(unlabeled_X_bigram)"
   ]
  },
  {
   "cell_type": "markdown",
   "id": "847daac7",
   "metadata": {},
   "source": [
    "# 5. Referências\n",
    "\n",
    "1. https://www.cs.jhu.edu/~mdredze/datasets/sentiment/index2.html\n",
    "\n",
    "A few notes regarding the data.\n",
    "\n",
    "\n",
    "1) There are 4 directories corresponding to each of the four domains. Each directory contains 3 files called positive.review, negative.review and unlabeled.review. (The books directory doesn't contain the unlabeled but the link is below.) While the positive and negative files contain positive and negative reviews, these aren't necessarily the splits we used in the experiments. We randomly drew from the three files ignoring the file names.\n",
    "\n",
    "\n",
    "2) Each file contains a pseudo XML scheme for encoding the reviews. Most of the fields are self explanatory. The reviews have a unique ID field that isn't very unique. If it has two unique id fields, ignore the one containing only a number.\n",
    "\n",
    "\n",
    "There are always small details and I am sure that I omitted many of them. If you have a question after reading the paper and this page, please let me know.\n",
    "\n",
    "2. https://medium.com/tableless/classificando-o-conteudo-do-stack-exchange-8f3ea68fb2af\n",
    "3. https://medium.com/tableless/classificando-o-conteudo-do-stack-exchange-02-6d9975e00ff7\n",
    "4. https://medium.com/tableless/classificando-o-conteudo-do-stack-exchange-2ad62aba0638"
   ]
  }
 ],
 "metadata": {
  "kernelspec": {
   "display_name": "Python 3",
   "language": "python",
   "name": "python3"
  },
  "language_info": {
   "codemirror_mode": {
    "name": "ipython",
    "version": 3
   },
   "file_extension": ".py",
   "mimetype": "text/x-python",
   "name": "python",
   "nbconvert_exporter": "python",
   "pygments_lexer": "ipython3",
   "version": "3.8.8"
  }
 },
 "nbformat": 4,
 "nbformat_minor": 5
}
